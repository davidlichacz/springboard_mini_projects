{
 "cells": [
  {
   "cell_type": "markdown",
   "metadata": {},
   "source": [
    "# What is the True Normal Human Body Temperature? \n",
    "\n",
    "#### Background\n",
    "\n",
    "The mean normal body temperature was held to be 37$^{\\circ}$C or 98.6$^{\\circ}$F for more than 120 years since it was first conceptualized and reported by Carl Wunderlich in a famous 1868 book. But, is this value statistically correct?"
   ]
  },
  {
   "cell_type": "markdown",
   "metadata": {},
   "source": [
    "<h3>Exercises</h3>\n",
    "\n",
    "<p>In this exercise, you will analyze a dataset of human body temperatures and employ the concepts of hypothesis testing, confidence intervals, and statistical significance.</p>\n",
    "\n",
    "<p>Answer the following questions <b>in this notebook below and submit to your Github account</b>.</p> \n",
    "\n",
    "<ol>\n",
    "<li>  Is the distribution of body temperatures normal? \n",
    "    <ul>\n",
    "    <li> Although this is not a requirement for the Central Limit Theorem to hold (read the introduction on Wikipedia's page about the CLT carefully: https://en.wikipedia.org/wiki/Central_limit_theorem), it gives us some peace of mind that the population may also be normally distributed if we assume that this sample is representative of the population.\n",
    "    <li> Think about the way you're going to check for the normality of the distribution. Graphical methods are usually used first, but there are also other ways: https://en.wikipedia.org/wiki/Normality_test\n",
    "    </ul>\n",
    "<li>  Is the sample size large? Are the observations independent?\n",
    "    <ul>\n",
    "    <li> Remember that this is a condition for the Central Limit Theorem, and hence the statistical tests we are using, to apply.\n",
    "    </ul>\n",
    "<li>  Is the true population mean really 98.6 degrees F?\n",
    "    <ul>\n",
    "    <li> First, try a bootstrap hypothesis test.\n",
    "    <li> Now, let's try frequentist statistical testing. Would you use a one-sample or two-sample test? Why?\n",
    "    <li> In this situation, is it appropriate to use the $t$ or $z$ statistic? \n",
    "    <li> Now try using the other test. How is the result be different? Why?\n",
    "    </ul>\n",
    "<li>  Draw a small sample of size 10 from the data and repeat both frequentist tests. \n",
    "    <ul>\n",
    "    <li> Which one is the correct one to use? \n",
    "    <li> What do you notice? What does this tell you about the difference in application of the $t$ and $z$ statistic?\n",
    "    </ul>\n",
    "<li>  At what temperature should we consider someone's temperature to be \"abnormal\"?\n",
    "    <ul>\n",
    "    <li> As in the previous example, try calculating everything using the boostrap approach, as well as the frequentist approach.\n",
    "    <li> Start by computing the margin of error and confidence interval. When calculating the confidence interval, keep in mind that you should use the appropriate formula for one draw, and not N draws.\n",
    "    </ul>\n",
    "<li>  Is there a significant difference between males and females in normal temperature?\n",
    "    <ul>\n",
    "    <li> What testing approach did you use and why?\n",
    "    <li> Write a story with your conclusion in the context of the original problem.\n",
    "    </ul>\n",
    "</ol>\n",
    "\n",
    "You can include written notes in notebook cells using Markdown: \n",
    "   - In the control panel at the top, choose Cell > Cell Type > Markdown\n",
    "   - Markdown syntax: http://nestacms.com/docs/creating-content/markdown-cheat-sheet\n",
    "\n",
    "#### Resources\n",
    "\n",
    "+ Information and data sources: http://www.amstat.org/publications/jse/datasets/normtemp.txt, http://www.amstat.org/publications/jse/jse_data_archive.htm\n",
    "+ Markdown syntax: http://nestacms.com/docs/creating-content/markdown-cheat-sheet\n",
    "\n",
    "****"
   ]
  },
  {
   "cell_type": "code",
   "execution_count": 1,
   "metadata": {
    "collapsed": true
   },
   "outputs": [],
   "source": [
    "import pandas as pd\n",
    "\n",
    "df = pd.read_csv('data/human_body_temperature.csv')"
   ]
  },
  {
   "cell_type": "code",
   "execution_count": 2,
   "metadata": {},
   "outputs": [],
   "source": [
    "import matplotlib.pyplot as plt\n",
    "import numpy as np\n",
    "from scipy import stats\n",
    "import seaborn as sns\n",
    "\n",
    "# Set the significance level that will be used throughout the exercise.\n",
    "alpha = 0.05\n",
    "\n",
    "# Extract the temperature column.\n",
    "temperature = df['temperature']\n"
   ]
  },
  {
   "cell_type": "code",
   "execution_count": 3,
   "metadata": {
    "collapsed": true
   },
   "outputs": [],
   "source": [
    "# Draw a normal sample using the same mean and standard deviation as parameters for comparison.\n",
    "np.random.seed(100)\n",
    "normal_sample = np.random.normal(np.mean(temperature), np.std(temperature), len(temperature))"
   ]
  },
  {
   "cell_type": "markdown",
   "metadata": {},
   "source": [
    "### 1. Is the distribution of body temperatures normal?"
   ]
  },
  {
   "cell_type": "code",
   "execution_count": 4,
   "metadata": {},
   "outputs": [
    {
     "data": {
      "image/png": "[encoded data removed]",
      "text/plain": [
       "<matplotlib.figure.Figure at 0x11445ea20>"
      ]
     },
     "metadata": {},
     "output_type": "display_data"
    }
   ],
   "source": [
    "# Histogram of temperature values\n",
    "plt.hist(temperature, normed=True)\n",
    "\n",
    "# Density for normal sample.\n",
    "sns.distplot(normal_sample, hist=False, color='red')\n",
    "\n",
    "plt.xlabel('Body Temperature')\n",
    "plt.ylabel('Density')\n",
    "plt.title('Histogram of Body Temperatures')\n",
    "\n",
    "plt.show()"
   ]
  },
  {
   "cell_type": "markdown",
   "metadata": {},
   "source": [
    "The histogram shows data that appears close to normal, but the tails appear uneven.  Let's examine the ECDF."
   ]
  },
  {
   "cell_type": "code",
   "execution_count": 5,
   "metadata": {
    "collapsed": true
   },
   "outputs": [],
   "source": [
    "# Define a function that computes the ECDF for a one-dimensional array.\n",
    "def ecdf(data):\n",
    "    size = len(data)\n",
    "    x = np.sort(data)\n",
    "    y = np.arange(1, size+1) / size\n",
    "    return x, y"
   ]
  },
  {
   "cell_type": "code",
   "execution_count": 6,
   "metadata": {},
   "outputs": [
    {
     "data": {
      "image/png": "[encoded data removed]",
      "text/plain": [
       "<matplotlib.figure.Figure at 0x1178957b8>"
      ]
     },
     "metadata": {},
     "output_type": "display_data"
    }
   ],
   "source": [
    "# Calculate the ECDFs for both the temperature observations and the normal sample\n",
    "x_temp, y_temp = ecdf(temperature)\n",
    "x_norm, y_norm = ecdf(normal_sample)\n",
    "\n",
    "plt.plot(x_temp, y_temp, marker='.', linestyle='none', label='Temperature')\n",
    "plt.plot(x_norm, y_norm, marker='.', linestyle='none', label='Normal', color='red')\n",
    "plt.xlabel('Body Temperature')\n",
    "plt.ylabel('ECDF')\n",
    "plt.title('ECDF of Body Temperatures')\n",
    "plt.legend()\n",
    "plt.show()"
   ]
  },
  {
   "cell_type": "markdown",
   "metadata": {},
   "source": [
    "The ECDFs have similar trends but are not exact.  For further investigation, a numerical test will be performed."
   ]
  },
  {
   "cell_type": "code",
   "execution_count": 7,
   "metadata": {},
   "outputs": [
    {
     "name": "stdout",
     "output_type": "stream",
     "text": [
      "p-value: 0.26; alpha: 0.05\n"
     ]
    }
   ],
   "source": [
    "# Perform a numerical test to check for normality.  The function used tests the null hypothesis that a sample comes from a normal distribution.\n",
    "\n",
    "stat, p = stats.normaltest(temperature)\n",
    "\n",
    "print(f'p-value: {p:.2f}; alpha: {alpha}')"
   ]
  },
  {
   "cell_type": "markdown",
   "metadata": {},
   "source": [
    "Since the p-value of the normality test is not less than alpha, there is not enough evidence to conclude that the distribution of body temperatures is not normal."
   ]
  },
  {
   "cell_type": "markdown",
   "metadata": {},
   "source": [
    "### 2\\. Is the sample size large? Are the observations independent?"
   ]
  },
  {
   "cell_type": "code",
   "execution_count": 8,
   "metadata": {},
   "outputs": [
    {
     "data": {
      "text/plain": [
       "130"
      ]
     },
     "execution_count": 8,
     "metadata": {},
     "output_type": "execute_result"
    }
   ],
   "source": [
    "len(temperature)"
   ]
  },
  {
   "cell_type": "markdown",
   "metadata": {},
   "source": [
    "The sample size is greater than 30 and therefore meets the threshold to use the Central Limit Theorem.  The sample size is also well within the 10% of the population rule and so the observations can be considered independent."
   ]
  },
  {
   "cell_type": "markdown",
   "metadata": {},
   "source": [
    "### 3\\. Is the true population mean really 98.6 degrees F?"
   ]
  },
  {
   "cell_type": "code",
   "execution_count": 9,
   "metadata": {},
   "outputs": [
    {
     "data": {
      "text/plain": [
       "98.24923076923078"
      ]
     },
     "execution_count": 9,
     "metadata": {},
     "output_type": "execute_result"
    }
   ],
   "source": [
    "# Calculate the observed mean.\n",
    "sample_mean = np.mean(temperature)\n",
    "sample_mean"
   ]
  },
  {
   "cell_type": "code",
   "execution_count": 10,
   "metadata": {},
   "outputs": [],
   "source": [
    "# Generate 10,000 bootstrap replicates of the mean\n",
    "np.random.seed(99)\n",
    "size = 10000\n",
    "bootstrap_means = np.empty(size)\n",
    "\n",
    "for i in range(size):\n",
    "    bootstrap_sample = np.random.choice(temperature, size=len(temperature), replace=True)\n",
    "    bootstrap_means[i] = np.mean(bootstrap_sample)"
   ]
  },
  {
   "cell_type": "markdown",
   "metadata": {},
   "source": [
    "To test the hypothesis that the mean is 98.6, we will calculate the proportion of values that are greater than 98.6.  Under this hypothesis, we would expect that this proportion would be around 50%."
   ]
  },
  {
   "cell_type": "code",
   "execution_count": 11,
   "metadata": {},
   "outputs": [
    {
     "name": "stdout",
     "output_type": "stream",
     "text": [
      "p-value: 0.00; alpha: 0.05\n"
     ]
    }
   ],
   "source": [
    "p_value = np.sum(bootstrap_means >= 98.6) / 10000\n",
    "print(f'p-value: {p_value:.2f}; alpha: {alpha}')"
   ]
  },
  {
   "cell_type": "markdown",
   "metadata": {},
   "source": [
    "Based on this result, we can reject the null hypothesis and conclude that there is enough evidence to suggest that the mean differs from 98.6."
   ]
  },
  {
   "cell_type": "markdown",
   "metadata": {},
   "source": [
    "Frequentist testing:\n",
    "\n",
    "Since we are comparing the mean to a single, predetermined value, a one-sample test will be used.  The population standard deviation is unknown however the sample size is reasonably large (> 30) so we should be able to use a z-test using the sample standard deviation as an estimate."
   ]
  },
  {
   "cell_type": "code",
   "execution_count": 12,
   "metadata": {},
   "outputs": [
    {
     "name": "stdout",
     "output_type": "stream",
     "text": [
      "z-statistic: -5.45; p-value: 0.00; alpha: 0.05\n"
     ]
    }
   ],
   "source": [
    "# Perform two-sided z-test for sample.\n",
    "from statsmodels.stats.weightstats import ztest\n",
    "\n",
    "z_statistic, p_value_z = ztest(temperature, value=98.6, alternative='two-sided')\n",
    "print(f'z-statistic: {z_statistic:.2f}; p-value: {p_value_z:.2f}; alpha: {alpha}')"
   ]
  },
  {
   "cell_type": "markdown",
   "metadata": {},
   "source": [
    "The p-value is below our level of signficance and we can reject the null hypothesis that the mean is equal to 98.6"
   ]
  },
  {
   "cell_type": "code",
   "execution_count": 13,
   "metadata": {},
   "outputs": [
    {
     "name": "stdout",
     "output_type": "stream",
     "text": [
      "t-statistic: -5.45; p-value: 0.00; alpha: 0.05\n"
     ]
    }
   ],
   "source": [
    "# Perform two-sided t-test for sample.\n",
    "t_statistic, p_value_t = stats.ttest_1samp(temperature, 98.6)\n",
    "print(f't-statistic: {t_statistic:.2f}; p-value: {p_value_t:.2f}; alpha: {alpha}')"
   ]
  },
  {
   "cell_type": "markdown",
   "metadata": {},
   "source": [
    "Onca again, the p-value is below our level of signficance and we can reject the null hypothesis that the mean is equal to 98.6."
   ]
  },
  {
   "cell_type": "code",
   "execution_count": 14,
   "metadata": {},
   "outputs": [
    {
     "name": "stdout",
     "output_type": "stream",
     "text": [
      "4.91749251324\n"
     ]
    }
   ],
   "source": [
    "ratio = p_value_t/p_value_z\n",
    "print(ratio)"
   ]
  },
  {
   "cell_type": "markdown",
   "metadata": {},
   "source": [
    "While both test produce p-values below the level of signifance and produce the same result, we see that the p-value for the t-test is almost five times as large as that for the z-test.  This is because the t distribution has thicker tails compared to the normal distribution and therefore, extreme values are more likely."
   ]
  },
  {
   "cell_type": "markdown",
   "metadata": {},
   "source": [
    "## 4. Draw a small sample of size 10 from the data and repeat both frequentist tests."
   ]
  },
  {
   "cell_type": "code",
   "execution_count": 15,
   "metadata": {},
   "outputs": [],
   "source": [
    "# Draw a sample of size 10.\n",
    "np.random.seed(100)\n",
    "temp_sample_10 = np.random.choice(temperature, size=10)"
   ]
  },
  {
   "cell_type": "code",
   "execution_count": 16,
   "metadata": {},
   "outputs": [
    {
     "name": "stdout",
     "output_type": "stream",
     "text": [
      "t-statistic: -1.82; p-value: 0.10; alpha: 0.05\n"
     ]
    }
   ],
   "source": [
    "# Perform two-sided t-test for sample of size 10.\n",
    "t_statistic_10, p_value_t_10 = stats.ttest_1samp(temp_sample_10, 98.6)\n",
    "print(f't-statistic: {t_statistic_10:.2f}; p-value: {p_value_t_10:.2f}; alpha: {alpha}')"
   ]
  },
  {
   "cell_type": "markdown",
   "metadata": {},
   "source": [
    "The p-value is above the level of significance and therefore there is not enough evidence to reject the null hypothesis that the mean is 98.6."
   ]
  },
  {
   "cell_type": "code",
   "execution_count": 17,
   "metadata": {},
   "outputs": [
    {
     "name": "stdout",
     "output_type": "stream",
     "text": [
      "z-statistic: -1.82; p-value: 0.07; alpha: 0.05\n"
     ]
    }
   ],
   "source": [
    "# Perform two-sided z-test for sample of size 10.\n",
    "z_statistic_10, p_value_z_10 = ztest(temp_sample_10, value=98.6, alternative='two-sided')\n",
    "print(f'z-statistic: {z_statistic_10:.2f}; p-value: {p_value_z_10:.2f}; alpha: {alpha}')"
   ]
  },
  {
   "cell_type": "markdown",
   "metadata": {},
   "source": [
    "Once again, the p-value is above the level of significance and therefore there is not enough evidence to reject the null hypothesis that the mean is 98.6."
   ]
  },
  {
   "cell_type": "markdown",
   "metadata": {},
   "source": [
    "This time, our sample size is small (<30) with an unknown standard deviation and so the t-test is more appropriate.  In application, the p-value is highler using the t-test due to the thicker tails of the t distribution which makes it more unlikely to reject the null hypothesis."
   ]
  },
  {
   "cell_type": "markdown",
   "metadata": {},
   "source": [
    "## 5\\. At what temperature should we consider someone's temperature to be \"abnormal\"?"
   ]
  },
  {
   "cell_type": "markdown",
   "metadata": {},
   "source": [
    "Bootstrap:"
   ]
  },
  {
   "cell_type": "code",
   "execution_count": 18,
   "metadata": {},
   "outputs": [
    {
     "name": "stdout",
     "output_type": "stream",
     "text": [
      "A 95% confidence interval for mean temperature is (98.12, 98.38)\n"
     ]
    }
   ],
   "source": [
    "# Calculate a 95% confidence interval using the bootstrap samples.\n",
    "bootstrap_ci = np.percentile(bootstrap_means, [2.5, 97.5])\n",
    "print(f'A 95% confidence interval for mean temperature is ({bootstrap_ci[0]:.2f}, {bootstrap_ci[1]:.2f})')"
   ]
  },
  {
   "cell_type": "markdown",
   "metadata": {},
   "source": [
    "Frequentist:"
   ]
  },
  {
   "cell_type": "code",
   "execution_count": 19,
   "metadata": {},
   "outputs": [
    {
     "name": "stdout",
     "output_type": "stream",
     "text": [
      "A 95% confidence interval for mean temperature is (98.12, 98.37)\n"
     ]
    }
   ],
   "source": [
    "# Calculate a 95% confidence interval using the frequentist approach.\n",
    "z = stats.norm.ppf(.975)\n",
    "margin_of_error = z * np.std(temperature) / np.sqrt(len(temperature))\n",
    "ci_upper = np.mean(temperature) + margin_of_error\n",
    "ci_lower = np.mean(temperature) - margin_of_error\n",
    "print(f'A 95% confidence interval for mean temperature is ({ci_lower:.2f}, {ci_upper:.2f})')"
   ]
  },
  {
   "cell_type": "markdown",
   "metadata": {},
   "source": [
    "The confidence intervals from the two approaches are very similar.  We can use these results to say that an \"abnormal\" body temperature would be less than 98.12 or more than 98.38."
   ]
  },
  {
   "cell_type": "markdown",
   "metadata": {},
   "source": [
    "## 6\\. Is there a significant difference between males and females in normal temperature?"
   ]
  },
  {
   "cell_type": "code",
   "execution_count": 20,
   "metadata": {},
   "outputs": [
    {
     "data": {
      "text/plain": [
       "M    65\n",
       "F    65\n",
       "Name: gender, dtype: int64"
      ]
     },
     "execution_count": 20,
     "metadata": {},
     "output_type": "execute_result"
    }
   ],
   "source": [
    "# Explore values for gender.\n",
    "df.gender.value_counts()"
   ]
  },
  {
   "cell_type": "code",
   "execution_count": 21,
   "metadata": {
    "collapsed": true
   },
   "outputs": [],
   "source": [
    "# All values for gender are either 'M' of 'F' so we can split the temperature column on those values.\n",
    "temperature_male = df[df['gender'] == 'M']['temperature']\n",
    "temperature_female = df[df['gender'] == 'F']['temperature']"
   ]
  },
  {
   "cell_type": "code",
   "execution_count": 22,
   "metadata": {},
   "outputs": [
    {
     "name": "stdout",
     "output_type": "stream",
     "text": [
      "Male mean body temperature: 98.10 degrees\n",
      "Female mean body temperature: 98.39 degrees\n"
     ]
    }
   ],
   "source": [
    "# Examine mean values for each gender.\n",
    "print(f'Male mean body temperature: {np.mean(temperature_male):.2f} degrees')\n",
    "print(f'Female mean body temperature: {np.mean(temperature_female):.2f} degrees')"
   ]
  },
  {
   "cell_type": "markdown",
   "metadata": {},
   "source": [
    "Since we are comparing two sample means, the appropriate test would be the two-sample t-test."
   ]
  },
  {
   "cell_type": "code",
   "execution_count": 23,
   "metadata": {},
   "outputs": [],
   "source": [
    "# Perform the two-sample t-test first assuming equal population variances and then without that assumption.\n",
    "t_stat_mf, p_value_mf = stats.ttest_ind(temperature_male, temperature_female, equal_var=True)\n",
    "t_stat_mf_2, p_value_mf_2 = stats.ttest_ind(temperature_male, temperature_female, equal_var=False)"
   ]
  },
  {
   "cell_type": "code",
   "execution_count": 24,
   "metadata": {},
   "outputs": [
    {
     "name": "stdout",
     "output_type": "stream",
     "text": [
      "Equal variance assumption: t-statistic: -2.29, p-value: 0.02, alpha: 0.05\n",
      "No equal variance assumption: t-statistic: -2.29, p-value: 0.02, alpha: 0.05\n"
     ]
    }
   ],
   "source": [
    "print(f'Equal variance assumption: t-statistic: {t_stat_mf:.2f}, p-value: {p_value_mf:.2f}, alpha: {alpha}')\n",
    "print(f'No equal variance assumption: t-statistic: {t_stat_mf_2:.2f}, p-value: {p_value_mf_2:.2f}, alpha: {alpha}')"
   ]
  },
  {
   "cell_type": "markdown",
   "metadata": {},
   "source": [
    "In both cases, the test yield similar results.  The p-value is below the level of significance and we can reject the hypothesis that the population means of male body temperature and female body temperature are equal."
   ]
  },
  {
   "cell_type": "markdown",
   "metadata": {},
   "source": [
    "## Conclusion"
   ]
  },
  {
   "cell_type": "markdown",
   "metadata": {},
   "source": [
    "The analysis above shows that there is sufficient evidence to suggest that the mean body temperature of a human is lower than the established 98.6 degrees.  In fact, based on the observed data, 98.6 degrees would be considered to be an \"abnormal\" value.  There is also evidence that suggests there is a difference in body temperature between gender.\n",
    "\n",
    "Further study and investigation would be required as the sample size is relatively small in comparison to the population at large.  It is also unclear whether the data was drawn from a representative population.  For example, did all of the subjects live in the same geographic area?  Were accurate measurement techniques used and were the measurements taken in a consistent, controlled environment?"
   ]
  }
 ],
 "metadata": {
  "kernelspec": {
   "display_name": "Python 3",
   "language": "python",
   "name": "python3"
  },
  "language_info": {
   "codemirror_mode": {
    "name": "ipython",
    "version": 3
   },
   "file_extension": ".py",
   "mimetype": "text/x-python",
   "name": "python",
   "nbconvert_exporter": "python",
   "pygments_lexer": "ipython3",
   "version": "3.6.1"
  }
 },
 "nbformat": 4,
 "nbformat_minor": 1
}
